{
 "cells": [
  {
   "cell_type": "markdown",
   "metadata": {},
   "source": [
    "이것은 단순히 나의 마크다운 연습용 jupyter notebook으로 아래 링크의 Seungje Jun님의 링크를 보고 배운 것을 정리한 것이다.  \n",
    "만약 누군가가 Jupyter Notebook의 markdown을 배우고 싶다면 Seungje님의 링크를 보고 배우길 바랍니다.  \n",
    "[Seungje 님의 깃헙 링크](https://gist.github.com/ninanung/946cd0e2e09bd5a94964ff8b612a9012)"
   ]
  },
  {
   "cell_type": "markdown",
   "metadata": {},
   "source": [
    "this is title of jupyter notebook using horizon  =====\n",
    "==================="
   ]
  },
  {
   "cell_type": "markdown",
   "metadata": {},
   "source": [
    "this is for subtitle   -----\n",
    "-------------"
   ]
  },
  {
   "cell_type": "markdown",
   "metadata": {},
   "source": [
    "using another horizon *********\n",
    "*************"
   ]
  },
  {
   "cell_type": "markdown",
   "metadata": {},
   "source": [
    "using another horizion __________\n",
    "__________________"
   ]
  },
  {
   "cell_type": "markdown",
   "metadata": {},
   "source": [
    "# this is for setting font size for a line '#'\n",
    "## smaller '##'\n",
    "### more smaller '###'"
   ]
  },
  {
   "cell_type": "markdown",
   "metadata": {},
   "source": [
    "# List Block Quote"
   ]
  },
  {
   "cell_type": "markdown",
   "metadata": {},
   "source": [
    "## list using shape  * + -\n",
    "* first aster\n",
    "    * next\n",
    "        * next next\n",
    "+ plus\n",
    "    + plus tab\n",
    "        + plus tab tab\n",
    "        \n",
    "- dash\n",
    "    - tab dash\n",
    "        - tab tab dash"
   ]
  },
  {
   "cell_type": "markdown",
   "metadata": {},
   "source": [
    "## list using numbers\n",
    "1. fisrt\n",
    "2. second\n",
    "3. third\n",
    "8. caution it just numbering as sequence this is 8 but numbering is 4"
   ]
  },
  {
   "cell_type": "markdown",
   "metadata": {},
   "source": [
    "## when I want to use specitial word\n",
    "2019\\. this year"
   ]
  },
  {
   "cell_type": "markdown",
   "metadata": {},
   "source": [
    "## mix all"
   ]
  },
  {
   "cell_type": "markdown",
   "metadata": {},
   "source": [
    "1. first\n",
    "    * 1\n",
    "    * 2\n",
    "2. second\n",
    "    * 1\n",
    "    * 2"
   ]
  },
  {
   "cell_type": "markdown",
   "metadata": {},
   "source": [
    "## BlockQuote"
   ]
  },
  {
   "cell_type": "markdown",
   "metadata": {},
   "source": [
    "> hello\n",
    ">> this is \n",
    ">>> jong hwan"
   ]
  },
  {
   "cell_type": "markdown",
   "metadata": {},
   "source": [
    "> 1. First Queto\n",
    "> 2. Second\n",
    ">> hahahah"
   ]
  },
  {
   "cell_type": "markdown",
   "metadata": {},
   "source": [
    "# Enter the line & emphasis "
   ]
  },
  {
   "cell_type": "markdown",
   "metadata": {},
   "source": [
    "## enter the line -- double space at the end of line"
   ]
  },
  {
   "cell_type": "markdown",
   "metadata": {},
   "source": [
    "today is little bit depressed(no double space)\n",
    "everybody looks really well"
   ]
  },
  {
   "cell_type": "markdown",
   "metadata": {},
   "source": [
    "I have appointment today (double space)  \n",
    "enter the line!"
   ]
  },
  {
   "cell_type": "markdown",
   "metadata": {},
   "source": [
    "## 아예 줄을 한 줄 띄우고 싶을 땐 - double space + double enter"
   ]
  },
  {
   "cell_type": "markdown",
   "metadata": {
    "ExecuteTime": {
     "end_time": "2019-07-13T02:32:57.618397Z",
     "start_time": "2019-07-13T02:32:57.542240Z"
    }
   },
   "source": [
    "나는  \n",
    "\n",
    "오늘  \n",
    "\n",
    "점심으로  \n",
    "\n",
    "삼계탕을  \n",
    "\n",
    "먹는다  "
   ]
  },
  {
   "cell_type": "markdown",
   "metadata": {},
   "source": [
    "## list 와 개행"
   ]
  },
  {
   "cell_type": "markdown",
   "metadata": {},
   "source": [
    "* first\n",
    "* second  \n",
    "contenst not in list"
   ]
  },
  {
   "cell_type": "markdown",
   "metadata": {},
   "source": [
    "* fist\n",
    "* seconds  \n",
    "\n",
    "double space + double enters"
   ]
  },
  {
   "cell_type": "markdown",
   "metadata": {},
   "source": [
    "## 문자 강조"
   ]
  },
  {
   "cell_type": "markdown",
   "metadata": {},
   "source": [
    "*삐뚤어지게 할때는 양옆에 aster*"
   ]
  },
  {
   "cell_type": "markdown",
   "metadata": {
    "ExecuteTime": {
     "end_time": "2019-07-13T02:37:28.500474Z",
     "start_time": "2019-07-13T02:37:28.496591Z"
    }
   },
   "source": [
    "**굵은글씨는 양 옆에 double aster**"
   ]
  },
  {
   "cell_type": "markdown",
   "metadata": {},
   "source": [
    "# 이미지와 링크 넣기"
   ]
  },
  {
   "cell_type": "markdown",
   "metadata": {},
   "source": [
    "## Link insert"
   ]
  },
  {
   "cell_type": "markdown",
   "metadata": {},
   "source": [
    "<https://jjangjjong.tistory.com>"
   ]
  },
  {
   "cell_type": "markdown",
   "metadata": {},
   "source": [
    "[링크 이름으로 보이기](https://jjangjjong.tistory.com)"
   ]
  },
  {
   "cell_type": "markdown",
   "metadata": {},
   "source": [
    "## image insert"
   ]
  },
  {
   "cell_type": "markdown",
   "metadata": {},
   "source": [
    "![이미지이름](https://d2v9ipibika81v.cloudfront.net/uploads/sites/75/2017/01/25.jpg \"여름풍경\")"
   ]
  },
  {
   "cell_type": "markdown",
   "metadata": {},
   "source": [
    "## image + link"
   ]
  },
  {
   "cell_type": "markdown",
   "metadata": {},
   "source": [
    "[![이미지이름](https://d2v9ipibika81v.cloudfront.net/uploads/sites/75/2017/01/25.jpg \"여름풍경\")](http://jjangjjong.tistory.com)"
   ]
  },
  {
   "cell_type": "markdown",
   "metadata": {},
   "source": [
    "# Block and Table"
   ]
  },
  {
   "cell_type": "markdown",
   "metadata": {},
   "source": [
    "## Code block"
   ]
  },
  {
   "cell_type": "markdown",
   "metadata": {},
   "source": [
    "code block : space 4 times  \n",
    "\n",
    "    for tmp in tmplist:\n",
    "        tmp.split()\n",
    "        # this is block for code"
   ]
  },
  {
   "cell_type": "markdown",
   "metadata": {},
   "source": [
    "two code block  and language \n",
    "\n",
    "~~~python\n",
    "for tmp in tmplist:\n",
    "    tmp.tmp()\n",
    "~~~\n",
    "\n",
    "different contents\n"
   ]
  },
  {
   "cell_type": "markdown",
   "metadata": {},
   "source": [
    "\"print(dlkfjdslfkj);\""
   ]
  },
  {
   "cell_type": "markdown",
   "metadata": {},
   "source": [
    "## Table"
   ]
  },
  {
   "cell_type": "markdown",
   "metadata": {},
   "source": [
    "head1|head2|head3  \n",
    "----|----|----  \n",
    "내용1 | 없음 |내용3\n",
    "세부1|세부2|세부3"
   ]
  },
  {
   "cell_type": "code",
   "execution_count": null,
   "metadata": {},
   "outputs": [],
   "source": []
  },
  {
   "cell_type": "code",
   "execution_count": null,
   "metadata": {},
   "outputs": [],
   "source": []
  },
  {
   "cell_type": "code",
   "execution_count": null,
   "metadata": {},
   "outputs": [],
   "source": []
  },
  {
   "cell_type": "code",
   "execution_count": null,
   "metadata": {},
   "outputs": [],
   "source": []
  }
 ],
 "metadata": {
  "hide_input": false,
  "kernelspec": {
   "display_name": "Python 3",
   "language": "python",
   "name": "python3"
  },
  "language_info": {
   "codemirror_mode": {
    "name": "ipython",
    "version": 3
   },
   "file_extension": ".py",
   "mimetype": "text/x-python",
   "name": "python",
   "nbconvert_exporter": "python",
   "pygments_lexer": "ipython3",
   "version": "3.7.0"
  },
  "toc": {
   "base_numbering": 1,
   "nav_menu": {},
   "number_sections": true,
   "sideBar": true,
   "skip_h1_title": false,
   "title_cell": "Table of Contents",
   "title_sidebar": "Contents",
   "toc_cell": false,
   "toc_position": {},
   "toc_section_display": true,
   "toc_window_display": true
  },
  "varInspector": {
   "cols": {
    "lenName": 16,
    "lenType": 16,
    "lenVar": 40
   },
   "kernels_config": {
    "python": {
     "delete_cmd_postfix": "",
     "delete_cmd_prefix": "del ",
     "library": "var_list.py",
     "varRefreshCmd": "print(var_dic_list())"
    },
    "r": {
     "delete_cmd_postfix": ") ",
     "delete_cmd_prefix": "rm(",
     "library": "var_list.r",
     "varRefreshCmd": "cat(var_dic_list()) "
    }
   },
   "types_to_exclude": [
    "module",
    "function",
    "builtin_function_or_method",
    "instance",
    "_Feature"
   ],
   "window_display": false
  }
 },
 "nbformat": 4,
 "nbformat_minor": 2
}
